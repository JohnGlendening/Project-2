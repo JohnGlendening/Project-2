{
 "cells": [
  {
   "cell_type": "code",
   "execution_count": 1,
   "metadata": {},
   "outputs": [],
   "source": [
    "# Dependencies and Setup\n",
    "import matplotlib.pyplot as plt\n",
    "import pandas as pd\n",
    "import scipy.stats as st\n",
    "import numpy as np\n",
    "from scipy.stats import sem\n",
    "import random\n",
    "from scipy.stats import linregress\n",
    "from sklearn import datasets\n",
    "import scipy.stats as sts\n",
    "import requests\n",
    "import time\n",
    "from scipy.stats import linregress"
   ]
  },
  {
   "cell_type": "code",
   "execution_count": 2,
   "metadata": {},
   "outputs": [],
   "source": [
    "# File to Load (Remember to Change These)\n",
    "file= \"case_demographics_ethnicity.csv\"\n",
    "\n",
    "# Read Purchasing File and store into Pandas data frame\n",
    "Ethnicity_df= pd.read_csv(file)\n"
   ]
  },
  {
   "cell_type": "code",
   "execution_count": 3,
   "metadata": {},
   "outputs": [
    {
     "data": {
      "text/html": [
       "<div>\n",
       "<style scoped>\n",
       "    .dataframe tbody tr th:only-of-type {\n",
       "        vertical-align: middle;\n",
       "    }\n",
       "\n",
       "    .dataframe tbody tr th {\n",
       "        vertical-align: top;\n",
       "    }\n",
       "\n",
       "    .dataframe thead th {\n",
       "        text-align: right;\n",
       "    }\n",
       "</style>\n",
       "<table border=\"1\" class=\"dataframe\">\n",
       "  <thead>\n",
       "    <tr style=\"text-align: right;\">\n",
       "      <th></th>\n",
       "      <th>race_ethnicity</th>\n",
       "      <th>cases</th>\n",
       "      <th>case_percentage</th>\n",
       "      <th>deaths</th>\n",
       "      <th>death_percentage</th>\n",
       "      <th>percent_ca_population</th>\n",
       "      <th>date</th>\n",
       "    </tr>\n",
       "  </thead>\n",
       "  <tbody>\n",
       "    <tr>\n",
       "      <th>0</th>\n",
       "      <td>Latino</td>\n",
       "      <td>5276</td>\n",
       "      <td>35.99</td>\n",
       "      <td>170</td>\n",
       "      <td>28.38</td>\n",
       "      <td>38.9</td>\n",
       "      <td>4/13/2020</td>\n",
       "    </tr>\n",
       "    <tr>\n",
       "      <th>1</th>\n",
       "      <td>Latino</td>\n",
       "      <td>5910</td>\n",
       "      <td>37.18</td>\n",
       "      <td>203</td>\n",
       "      <td>29.72</td>\n",
       "      <td>38.9</td>\n",
       "      <td>4/14/2020</td>\n",
       "    </tr>\n",
       "    <tr>\n",
       "      <th>2</th>\n",
       "      <td>Latino</td>\n",
       "      <td>6433</td>\n",
       "      <td>37.80</td>\n",
       "      <td>226</td>\n",
       "      <td>29.70</td>\n",
       "      <td>38.9</td>\n",
       "      <td>4/15/2020</td>\n",
       "    </tr>\n",
       "    <tr>\n",
       "      <th>3</th>\n",
       "      <td>Latino</td>\n",
       "      <td>7013</td>\n",
       "      <td>38.51</td>\n",
       "      <td>254</td>\n",
       "      <td>29.85</td>\n",
       "      <td>38.9</td>\n",
       "      <td>4/16/2020</td>\n",
       "    </tr>\n",
       "    <tr>\n",
       "      <th>4</th>\n",
       "      <td>Latino</td>\n",
       "      <td>7627</td>\n",
       "      <td>39.41</td>\n",
       "      <td>281</td>\n",
       "      <td>30.58</td>\n",
       "      <td>38.9</td>\n",
       "      <td>4/17/2020</td>\n",
       "    </tr>\n",
       "  </tbody>\n",
       "</table>\n",
       "</div>"
      ],
      "text/plain": [
       "  race_ethnicity  cases  case_percentage  deaths  death_percentage  \\\n",
       "0         Latino   5276            35.99     170             28.38   \n",
       "1         Latino   5910            37.18     203             29.72   \n",
       "2         Latino   6433            37.80     226             29.70   \n",
       "3         Latino   7013            38.51     254             29.85   \n",
       "4         Latino   7627            39.41     281             30.58   \n",
       "\n",
       "   percent_ca_population       date  \n",
       "0                   38.9  4/13/2020  \n",
       "1                   38.9  4/14/2020  \n",
       "2                   38.9  4/15/2020  \n",
       "3                   38.9  4/16/2020  \n",
       "4                   38.9  4/17/2020  "
      ]
     },
     "execution_count": 3,
     "metadata": {},
     "output_type": "execute_result"
    }
   ],
   "source": [
    "Ethnicity_df.head()"
   ]
  },
  {
   "cell_type": "code",
   "execution_count": 4,
   "metadata": {},
   "outputs": [
    {
     "data": {
      "text/plain": [
       "race_ethnicity           2544\n",
       "cases                    2544\n",
       "case_percentage          2544\n",
       "deaths                   2544\n",
       "death_percentage         2544\n",
       "percent_ca_population    2544\n",
       "date                     2544\n",
       "dtype: int64"
      ]
     },
     "execution_count": 4,
     "metadata": {},
     "output_type": "execute_result"
    }
   ],
   "source": [
    "Ethnicity_df.count()"
   ]
  },
  {
   "cell_type": "code",
   "execution_count": 5,
   "metadata": {},
   "outputs": [
    {
     "data": {
      "text/plain": [
       "race_ethnicity             10\n",
       "cases                    2460\n",
       "case_percentage           401\n",
       "deaths                   1430\n",
       "death_percentage          379\n",
       "percent_ca_population       8\n",
       "date                      318\n",
       "dtype: int64"
      ]
     },
     "execution_count": 5,
     "metadata": {},
     "output_type": "execute_result"
    }
   ],
   "source": [
    "Ethnicity_df.nunique()\n"
   ]
  },
  {
   "cell_type": "code",
   "execution_count": 6,
   "metadata": {},
   "outputs": [
    {
     "data": {
      "text/plain": [
       "Asian                                         318\n",
       "Other                                         318\n",
       "White                                         318\n",
       "Latino                                        318\n",
       "Black                                         318\n",
       "American Indian or Alaska Native              318\n",
       "Native Hawaiian and other Pacific Islander    269\n",
       "Multi-Race                                    269\n",
       "Multiracial                                    49\n",
       "Native Hawaiian or Pacific Islander            49\n",
       "Name: race_ethnicity, dtype: int64"
      ]
     },
     "execution_count": 6,
     "metadata": {},
     "output_type": "execute_result"
    }
   ],
   "source": [
    "Ethnicity_df[\"race_ethnicity\"].value_counts()"
   ]
  },
  {
   "cell_type": "code",
   "execution_count": 7,
   "metadata": {},
   "outputs": [
    {
     "data": {
      "text/html": [
       "<div>\n",
       "<style scoped>\n",
       "    .dataframe tbody tr th:only-of-type {\n",
       "        vertical-align: middle;\n",
       "    }\n",
       "\n",
       "    .dataframe tbody tr th {\n",
       "        vertical-align: top;\n",
       "    }\n",
       "\n",
       "    .dataframe thead th {\n",
       "        text-align: right;\n",
       "    }\n",
       "</style>\n",
       "<table border=\"1\" class=\"dataframe\">\n",
       "  <thead>\n",
       "    <tr style=\"text-align: right;\">\n",
       "      <th></th>\n",
       "      <th>cases</th>\n",
       "      <th>case_percentage</th>\n",
       "      <th>deaths</th>\n",
       "      <th>death_percentage</th>\n",
       "      <th>percent_ca_population</th>\n",
       "    </tr>\n",
       "  </thead>\n",
       "  <tbody>\n",
       "    <tr>\n",
       "      <th>count</th>\n",
       "      <td>2.544000e+03</td>\n",
       "      <td>2544.000000</td>\n",
       "      <td>2544.000000</td>\n",
       "      <td>2544.000000</td>\n",
       "      <td>2544.000000</td>\n",
       "    </tr>\n",
       "    <tr>\n",
       "      <th>mean</th>\n",
       "      <td>9.825323e+04</td>\n",
       "      <td>12.500098</td>\n",
       "      <td>1990.910770</td>\n",
       "      <td>12.499175</td>\n",
       "      <td>12.487500</td>\n",
       "    </tr>\n",
       "    <tr>\n",
       "      <th>std</th>\n",
       "      <td>2.204152e+05</td>\n",
       "      <td>17.770246</td>\n",
       "      <td>3572.733373</td>\n",
       "      <td>15.836679</td>\n",
       "      <td>15.347432</td>\n",
       "    </tr>\n",
       "    <tr>\n",
       "      <th>min</th>\n",
       "      <td>3.200000e+01</td>\n",
       "      <td>0.185972</td>\n",
       "      <td>3.000000</td>\n",
       "      <td>0.220000</td>\n",
       "      <td>0.000000</td>\n",
       "    </tr>\n",
       "    <tr>\n",
       "      <th>25%</th>\n",
       "      <td>3.274500e+03</td>\n",
       "      <td>0.800000</td>\n",
       "      <td>73.000000</td>\n",
       "      <td>0.600000</td>\n",
       "      <td>0.450000</td>\n",
       "    </tr>\n",
       "    <tr>\n",
       "      <th>50%</th>\n",
       "      <td>1.767800e+04</td>\n",
       "      <td>5.450000</td>\n",
       "      <td>376.500000</td>\n",
       "      <td>4.395000</td>\n",
       "      <td>4.100000</td>\n",
       "    </tr>\n",
       "    <tr>\n",
       "      <th>75%</th>\n",
       "      <td>7.779175e+04</td>\n",
       "      <td>16.125000</td>\n",
       "      <td>2082.000000</td>\n",
       "      <td>20.355000</td>\n",
       "      <td>20.700000</td>\n",
       "    </tr>\n",
       "    <tr>\n",
       "      <th>max</th>\n",
       "      <td>1.476643e+06</td>\n",
       "      <td>61.200000</td>\n",
       "      <td>22893.000000</td>\n",
       "      <td>48.700000</td>\n",
       "      <td>38.900000</td>\n",
       "    </tr>\n",
       "  </tbody>\n",
       "</table>\n",
       "</div>"
      ],
      "text/plain": [
       "              cases  case_percentage        deaths  death_percentage  \\\n",
       "count  2.544000e+03      2544.000000   2544.000000       2544.000000   \n",
       "mean   9.825323e+04        12.500098   1990.910770         12.499175   \n",
       "std    2.204152e+05        17.770246   3572.733373         15.836679   \n",
       "min    3.200000e+01         0.185972      3.000000          0.220000   \n",
       "25%    3.274500e+03         0.800000     73.000000          0.600000   \n",
       "50%    1.767800e+04         5.450000    376.500000          4.395000   \n",
       "75%    7.779175e+04        16.125000   2082.000000         20.355000   \n",
       "max    1.476643e+06        61.200000  22893.000000         48.700000   \n",
       "\n",
       "       percent_ca_population  \n",
       "count            2544.000000  \n",
       "mean               12.487500  \n",
       "std                15.347432  \n",
       "min                 0.000000  \n",
       "25%                 0.450000  \n",
       "50%                 4.100000  \n",
       "75%                20.700000  \n",
       "max                38.900000  "
      ]
     },
     "execution_count": 7,
     "metadata": {},
     "output_type": "execute_result"
    }
   ],
   "source": [
    "Ethnicity_df.describe()"
   ]
  },
  {
   "cell_type": "code",
   "execution_count": 8,
   "metadata": {},
   "outputs": [
    {
     "data": {
      "text/plain": [
       "cases                    249956223.0\n",
       "deaths                     5064877.0\n",
       "percent_ca_population        31768.2\n",
       "dtype: float64"
      ]
     },
     "execution_count": 8,
     "metadata": {},
     "output_type": "execute_result"
    }
   ],
   "source": [
    "sum_ethnicity= Ethnicity_df[[\"cases\",\"deaths\",\"percent_ca_population\"]].sum()\n",
    "sum_ethnicity"
   ]
  },
  {
   "cell_type": "code",
   "execution_count": 9,
   "metadata": {},
   "outputs": [
    {
     "name": "stdout",
     "output_type": "stream",
     "text": [
      "0.25     3274.50\n",
      "0.50    17678.00\n",
      "0.75    77791.75\n",
      "Name: cases, dtype: float64\n",
      "The lower quartile of Volumes is: 3274.5\n",
      "The upper quartile of Volumes is: 77791.75\n",
      "The interquartile range of Volumes is: 74517.25\n",
      "The the median of Volumes is: 17678.0 \n",
      "Values below -108501.375 could be outliers.\n",
      "Values above 189567.625 could be outliers.\n"
     ]
    }
   ],
   "source": [
    "# Calculate the IQR and quantitatively determine if there are any potential outliers. \n",
    "cases_outliers=Ethnicity_df[\"cases\"]\n",
    "\n",
    "quartiles = cases_outliers.quantile([.25,.5,.75])\n",
    "print(quartiles)\n",
    "lowerq = quartiles[0.25]\n",
    "upperq = quartiles[0.75]\n",
    "iqr = upperq-lowerq\n",
    "print(f\"The lower quartile of Volumes is: {lowerq}\")\n",
    "print(f\"The upper quartile of Volumes is: {upperq}\")\n",
    "print(f\"The interquartile range of Volumes is: {iqr}\")\n",
    "print(f\"The the median of Volumes is: {quartiles[0.5]} \")\n",
    "\n",
    "lower_bound = lowerq - (1.5*iqr)\n",
    "upper_bound = upperq + (1.5*iqr)\n",
    "print(f\"Values below {lower_bound} could be outliers.\")\n",
    "print(f\"Values above {upper_bound} could be outliers.\")\n"
   ]
  },
  {
   "cell_type": "code",
   "execution_count": 10,
   "metadata": {},
   "outputs": [
    {
     "data": {
      "image/png": "[encoded data removed]",
      "text/plain": [
       "<Figure size 432x288 with 1 Axes>"
      ]
     },
     "metadata": {
      "needs_background": "light"
     },
     "output_type": "display_data"
    }
   ],
   "source": [
    "Scatter= Ethnicity_df[[\"race_ethnicity\",\"cases\",\"deaths\",\"percent_ca_population\"]]\n",
    "\n",
    "x_values = Scatter[\"race_ethnicity\"]\n",
    "y_values = Scatter[\"cases\"]\n",
    "\n",
    "\n",
    "plt.bar(x_values,y_values,align=\"center\")\n",
    "plt.xticks(rotation=\"vertical\")\n",
    "plt.title(\"Ethnicity vs. Number of cases (02/27/2021)\")\n",
    "plt.xlabel('Ethnicity')\n",
    "plt.ylabel('Cases')\n",
    "plt.show()"
   ]
  },
  {
   "cell_type": "code",
   "execution_count": 11,
   "metadata": {},
   "outputs": [
    {
     "name": "stdout",
     "output_type": "stream",
     "text": [
      "0.25      73.0\n",
      "0.50     376.5\n",
      "0.75    2082.0\n",
      "Name: deaths, dtype: float64\n",
      "The lower quartile of Volumes is: 73.0\n",
      "The upper quartile of Volumes is: 2082.0\n",
      "The interquartile range of Volumes is: 2009.0\n",
      "The the median of Volumes is: 376.5 \n",
      "Values below -2940.5 could be outliers.\n",
      "Values above 5095.5 could be outliers.\n"
     ]
    }
   ],
   "source": [
    "# Calculate the IQR and quantitatively determine if there are any potential outliers. \n",
    "cases_outliers=Ethnicity_df[\"deaths\"]\n",
    "\n",
    "quartiles = cases_outliers.quantile([.25,.5,.75])\n",
    "print(quartiles)\n",
    "lowerq = quartiles[0.25]\n",
    "upperq = quartiles[0.75]\n",
    "iqr = upperq-lowerq\n",
    "print(f\"The lower quartile of Volumes is: {lowerq}\")\n",
    "print(f\"The upper quartile of Volumes is: {upperq}\")\n",
    "print(f\"The interquartile range of Volumes is: {iqr}\")\n",
    "print(f\"The the median of Volumes is: {quartiles[0.5]} \")\n",
    "\n",
    "lower_bound = lowerq - (1.5*iqr)\n",
    "upper_bound = upperq + (1.5*iqr)\n",
    "print(f\"Values below {lower_bound} could be outliers.\")\n",
    "print(f\"Values above {upper_bound} could be outliers.\")\n"
   ]
  },
  {
   "cell_type": "code",
   "execution_count": 49,
   "metadata": {},
   "outputs": [
    {
     "data": {
      "image/png": "[encoded data removed]",
      "text/plain": [
       "<Figure size 432x288 with 1 Axes>"
      ]
     },
     "metadata": {
      "needs_background": "light"
     },
     "output_type": "display_data"
    }
   ],
   "source": [
    "Scatter= Ethnicity_df[[\"race_ethnicity\",\"cases\",\"deaths\",\"percent_ca_population\"]]\n",
    "\n",
    "x_values = Scatter[\"race_ethnicity\"]\n",
    "y_values = Scatter[\"deaths\"]\n",
    "\n",
    "\n",
    "plt.bar(x_values,y_values,align=\"center\")\n",
    "plt.xticks(rotation=\"vertical\")\n",
    "plt.title(\"Ethnicity vs. Deaths (02/27/2021)\")\n",
    "plt.xlabel('Ethnicity')\n",
    "plt.ylabel('Deaths')\n",
    "plt.show()"
   ]
  },
  {
   "cell_type": "code",
   "execution_count": null,
   "metadata": {},
   "outputs": [],
   "source": []
  },
  {
   "cell_type": "code",
   "execution_count": 67,
   "metadata": {},
   "outputs": [
    {
     "data": {
      "image/png": "[encoded data removed]",
      "text/plain": [
       "<Figure size 432x288 with 1 Axes>"
      ]
     },
     "metadata": {
      "needs_background": "light"
     },
     "output_type": "display_data"
    }
   ],
   "source": [
    "Scatter= Ethnicity_df[[\"race_ethnicity\",\"cases\",\"deaths\",\"percent_ca_population\"]]\n",
    "\n",
    "x_values = Scatter[\"race_ethnicity\"]\n",
    "y_values = Scatter[\"percent_ca_population\"]\n",
    "\n",
    "\n",
    "plt.bar(x_values,y_values,align=\"center\")\n",
    "plt.xticks(rotation=\"vertical\")\n",
    "plt.title(\"Ethnicity vs. percent of Population (02/27/2021)\")\n",
    "plt.xlabel('Ethnicity')\n",
    "plt.ylabel('Population')\n",
    "plt.show()"
   ]
  },
  {
   "cell_type": "code",
   "execution_count": null,
   "metadata": {},
   "outputs": [],
   "source": []
  }
 ],
 "metadata": {
  "kernelspec": {
   "display_name": "Python 3",
   "language": "python",
   "name": "python3"
  },
  "language_info": {
   "codemirror_mode": {
    "name": "ipython",
    "version": 3
   },
   "file_extension": ".py",
   "mimetype": "text/x-python",
   "name": "python",
   "nbconvert_exporter": "python",
   "pygments_lexer": "ipython3",
   "version": "3.8.5"
  }
 },
 "nbformat": 4,
 "nbformat_minor": 4
}
