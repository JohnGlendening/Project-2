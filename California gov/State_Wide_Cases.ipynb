{
 "cells": [
  {
   "cell_type": "code",
   "execution_count": 1,
   "metadata": {},
   "outputs": [],
   "source": [
    "# Dependencies and Setup\n",
    "import matplotlib.pyplot as plt\n",
    "import pandas as pd\n",
    "import scipy.stats as st\n",
    "import numpy as np\n",
    "from scipy.stats import sem\n",
    "import random\n",
    "from scipy.stats import linregress\n",
    "from sklearn import datasets\n",
    "import scipy.stats as sts\n",
    "import requests\n",
    "import time\n",
    "from scipy.stats import linregress"
   ]
  },
  {
   "cell_type": "code",
   "execution_count": 2,
   "metadata": {},
   "outputs": [],
   "source": [
    "# File to Load (Remember to Change These)\n",
    "file2=\"statewide_cases.csv\"\n",
    "\n",
    "# Read Purchasing File and store into Pandas data frame\n",
    "\n",
    "df= pd.read_csv(file2)"
   ]
  },
  {
   "cell_type": "code",
   "execution_count": 3,
   "metadata": {},
   "outputs": [
    {
     "data": {
      "text/html": [
       "<div>\n",
       "<style scoped>\n",
       "    .dataframe tbody tr th:only-of-type {\n",
       "        vertical-align: middle;\n",
       "    }\n",
       "\n",
       "    .dataframe tbody tr th {\n",
       "        vertical-align: top;\n",
       "    }\n",
       "\n",
       "    .dataframe thead th {\n",
       "        text-align: right;\n",
       "    }\n",
       "</style>\n",
       "<table border=\"1\" class=\"dataframe\">\n",
       "  <thead>\n",
       "    <tr style=\"text-align: right;\">\n",
       "      <th></th>\n",
       "      <th>county</th>\n",
       "      <th>totalcountconfirmed</th>\n",
       "      <th>totalcountdeaths</th>\n",
       "      <th>newcountconfirmed</th>\n",
       "      <th>newcountdeaths</th>\n",
       "      <th>date</th>\n",
       "    </tr>\n",
       "  </thead>\n",
       "  <tbody>\n",
       "    <tr>\n",
       "      <th>0</th>\n",
       "      <td>Santa Clara</td>\n",
       "      <td>151</td>\n",
       "      <td>6</td>\n",
       "      <td>151</td>\n",
       "      <td>6</td>\n",
       "      <td>3/18/2020</td>\n",
       "    </tr>\n",
       "    <tr>\n",
       "      <th>1</th>\n",
       "      <td>Santa Clara</td>\n",
       "      <td>183</td>\n",
       "      <td>8</td>\n",
       "      <td>32</td>\n",
       "      <td>2</td>\n",
       "      <td>3/19/2020</td>\n",
       "    </tr>\n",
       "    <tr>\n",
       "      <th>2</th>\n",
       "      <td>Santa Clara</td>\n",
       "      <td>246</td>\n",
       "      <td>8</td>\n",
       "      <td>63</td>\n",
       "      <td>0</td>\n",
       "      <td>3/20/2020</td>\n",
       "    </tr>\n",
       "    <tr>\n",
       "      <th>3</th>\n",
       "      <td>Santa Clara</td>\n",
       "      <td>269</td>\n",
       "      <td>10</td>\n",
       "      <td>23</td>\n",
       "      <td>2</td>\n",
       "      <td>3/21/2020</td>\n",
       "    </tr>\n",
       "    <tr>\n",
       "      <th>4</th>\n",
       "      <td>Santa Clara</td>\n",
       "      <td>284</td>\n",
       "      <td>13</td>\n",
       "      <td>15</td>\n",
       "      <td>3</td>\n",
       "      <td>3/22/2020</td>\n",
       "    </tr>\n",
       "    <tr>\n",
       "      <th>...</th>\n",
       "      <td>...</td>\n",
       "      <td>...</td>\n",
       "      <td>...</td>\n",
       "      <td>...</td>\n",
       "      <td>...</td>\n",
       "      <td>...</td>\n",
       "    </tr>\n",
       "    <tr>\n",
       "      <th>41168</th>\n",
       "      <td>Yolo</td>\n",
       "      <td>12670</td>\n",
       "      <td>181</td>\n",
       "      <td>31</td>\n",
       "      <td>0</td>\n",
       "      <td>2/21/2021</td>\n",
       "    </tr>\n",
       "    <tr>\n",
       "      <th>41169</th>\n",
       "      <td>Yolo</td>\n",
       "      <td>12689</td>\n",
       "      <td>181</td>\n",
       "      <td>19</td>\n",
       "      <td>0</td>\n",
       "      <td>2/22/2021</td>\n",
       "    </tr>\n",
       "    <tr>\n",
       "      <th>41170</th>\n",
       "      <td>Yolo</td>\n",
       "      <td>12729</td>\n",
       "      <td>185</td>\n",
       "      <td>40</td>\n",
       "      <td>4</td>\n",
       "      <td>2/23/2021</td>\n",
       "    </tr>\n",
       "    <tr>\n",
       "      <th>41171</th>\n",
       "      <td>Yolo</td>\n",
       "      <td>12760</td>\n",
       "      <td>185</td>\n",
       "      <td>31</td>\n",
       "      <td>0</td>\n",
       "      <td>2/24/2021</td>\n",
       "    </tr>\n",
       "    <tr>\n",
       "      <th>41172</th>\n",
       "      <td>&gt;&gt;&gt;&gt;&gt;&gt;&gt; e803abca8ad3094f0700bcf3636bd9417aa87c4f</td>\n",
       "      <td>NaN</td>\n",
       "      <td>NaN</td>\n",
       "      <td>NaN</td>\n",
       "      <td>NaN</td>\n",
       "      <td>NaN</td>\n",
       "    </tr>\n",
       "  </tbody>\n",
       "</table>\n",
       "<p>41173 rows × 6 columns</p>\n",
       "</div>"
      ],
      "text/plain": [
       "                                                 county totalcountconfirmed  \\\n",
       "0                                           Santa Clara                 151   \n",
       "1                                           Santa Clara                 183   \n",
       "2                                           Santa Clara                 246   \n",
       "3                                           Santa Clara                 269   \n",
       "4                                           Santa Clara                 284   \n",
       "...                                                 ...                 ...   \n",
       "41168                                              Yolo               12670   \n",
       "41169                                              Yolo               12689   \n",
       "41170                                              Yolo               12729   \n",
       "41171                                              Yolo               12760   \n",
       "41172  >>>>>>> e803abca8ad3094f0700bcf3636bd9417aa87c4f                 NaN   \n",
       "\n",
       "      totalcountdeaths newcountconfirmed newcountdeaths       date  \n",
       "0                    6               151              6  3/18/2020  \n",
       "1                    8                32              2  3/19/2020  \n",
       "2                    8                63              0  3/20/2020  \n",
       "3                   10                23              2  3/21/2020  \n",
       "4                   13                15              3  3/22/2020  \n",
       "...                ...               ...            ...        ...  \n",
       "41168              181                31              0  2/21/2021  \n",
       "41169              181                19              0  2/22/2021  \n",
       "41170              185                40              4  2/23/2021  \n",
       "41171              185                31              0  2/24/2021  \n",
       "41172              NaN               NaN            NaN        NaN  \n",
       "\n",
       "[41173 rows x 6 columns]"
      ]
     },
     "execution_count": 3,
     "metadata": {},
     "output_type": "execute_result"
    }
   ],
   "source": [
    "df"
   ]
  },
  {
   "cell_type": "code",
   "execution_count": 5,
   "metadata": {},
   "outputs": [
    {
     "data": {
      "text/plain": [
       "county                   63\n",
       "totalcountconfirmed    9581\n",
       "totalcountdeaths       1583\n",
       "newcountconfirmed      1493\n",
       "newcountdeaths          150\n",
       "date                    345\n",
       "dtype: int64"
      ]
     },
     "execution_count": 5,
     "metadata": {},
     "output_type": "execute_result"
    }
   ],
   "source": [
    "df.nunique()"
   ]
  },
  {
   "cell_type": "code",
   "execution_count": 30,
   "metadata": {},
   "outputs": [
    {
     "data": {
      "text/html": [
       "<div>\n",
       "<style scoped>\n",
       "    .dataframe tbody tr th:only-of-type {\n",
       "        vertical-align: middle;\n",
       "    }\n",
       "\n",
       "    .dataframe tbody tr th {\n",
       "        vertical-align: top;\n",
       "    }\n",
       "\n",
       "    .dataframe thead th {\n",
       "        text-align: right;\n",
       "    }\n",
       "</style>\n",
       "<table border=\"1\" class=\"dataframe\">\n",
       "  <thead>\n",
       "    <tr style=\"text-align: right;\">\n",
       "      <th></th>\n",
       "      <th>county</th>\n",
       "      <th>totalcountconfirmed</th>\n",
       "      <th>totalcountdeaths</th>\n",
       "      <th>newcountconfirmed</th>\n",
       "      <th>newcountdeaths</th>\n",
       "      <th>date</th>\n",
       "    </tr>\n",
       "  </thead>\n",
       "  <tbody>\n",
       "    <tr>\n",
       "      <th>0</th>\n",
       "      <td>Santa Clara</td>\n",
       "      <td>151</td>\n",
       "      <td>6</td>\n",
       "      <td>151</td>\n",
       "      <td>6</td>\n",
       "      <td>3/18/2020</td>\n",
       "    </tr>\n",
       "    <tr>\n",
       "      <th>1</th>\n",
       "      <td>Santa Clara</td>\n",
       "      <td>183</td>\n",
       "      <td>8</td>\n",
       "      <td>32</td>\n",
       "      <td>2</td>\n",
       "      <td>3/19/2020</td>\n",
       "    </tr>\n",
       "    <tr>\n",
       "      <th>2</th>\n",
       "      <td>Santa Clara</td>\n",
       "      <td>246</td>\n",
       "      <td>8</td>\n",
       "      <td>63</td>\n",
       "      <td>0</td>\n",
       "      <td>3/20/2020</td>\n",
       "    </tr>\n",
       "    <tr>\n",
       "      <th>3</th>\n",
       "      <td>Santa Clara</td>\n",
       "      <td>269</td>\n",
       "      <td>10</td>\n",
       "      <td>23</td>\n",
       "      <td>2</td>\n",
       "      <td>3/21/2020</td>\n",
       "    </tr>\n",
       "    <tr>\n",
       "      <th>4</th>\n",
       "      <td>Santa Clara</td>\n",
       "      <td>284</td>\n",
       "      <td>13</td>\n",
       "      <td>15</td>\n",
       "      <td>3</td>\n",
       "      <td>3/22/2020</td>\n",
       "    </tr>\n",
       "  </tbody>\n",
       "</table>\n",
       "</div>"
      ],
      "text/plain": [
       "        county totalcountconfirmed totalcountdeaths newcountconfirmed  \\\n",
       "0  Santa Clara                 151                6               151   \n",
       "1  Santa Clara                 183                8                32   \n",
       "2  Santa Clara                 246                8                63   \n",
       "3  Santa Clara                 269               10                23   \n",
       "4  Santa Clara                 284               13                15   \n",
       "\n",
       "  newcountdeaths       date  \n",
       "0              6  3/18/2020  \n",
       "1              2  3/19/2020  \n",
       "2              0  3/20/2020  \n",
       "3              2  3/21/2020  \n",
       "4              3  3/22/2020  "
      ]
     },
     "execution_count": 30,
     "metadata": {},
     "output_type": "execute_result"
    }
   ],
   "source": [
    "county_df=df.dropna(how=\"any\")\n",
    "county_df.head()"
   ]
  },
  {
   "cell_type": "code",
   "execution_count": 31,
   "metadata": {},
   "outputs": [
    {
     "data": {
      "text/plain": [
       "county                   61\n",
       "totalcountconfirmed    9581\n",
       "totalcountdeaths       1583\n",
       "newcountconfirmed      1493\n",
       "newcountdeaths          150\n",
       "date                    345\n",
       "dtype: int64"
      ]
     },
     "execution_count": 31,
     "metadata": {},
     "output_type": "execute_result"
    }
   ],
   "source": [
    "county_df.nunique()"
   ]
  },
  {
   "cell_type": "code",
   "execution_count": 35,
   "metadata": {},
   "outputs": [
    {
     "data": {
      "text/plain": [
       "Ventura           688\n",
       "Santa Clara       688\n",
       "Merced            688\n",
       "Tulare            688\n",
       "Orange            688\n",
       "                 ... \n",
       "Lake              684\n",
       "Alpine            664\n",
       "Modoc             656\n",
       "Out Of Country    636\n",
       "county              1\n",
       "Name: county, Length: 61, dtype: int64"
      ]
     },
     "execution_count": 35,
     "metadata": {},
     "output_type": "execute_result"
    }
   ],
   "source": [
    "county_df[\"county\"].value_counts()"
   ]
  },
  {
   "cell_type": "code",
   "execution_count": 52,
   "metadata": {},
   "outputs": [
    {
     "data": {
      "text/plain": [
       "Del Norte          2\n",
       "Mendocino          2\n",
       "San Diego          2\n",
       "Mono               2\n",
       "Siskiyou           2\n",
       "Solano             2\n",
       "San Joaquin        2\n",
       "Yuba               2\n",
       "Santa Clara        2\n",
       "Inyo               2\n",
       "Colusa             2\n",
       "Lake               2\n",
       "Sutter             2\n",
       "San Bernardino     2\n",
       "Los Angeles        2\n",
       "Lassen             2\n",
       "Amador             2\n",
       "Shasta             2\n",
       "El Dorado          2\n",
       "Out Of Country     2\n",
       "San Mateo          2\n",
       "Glenn              2\n",
       "Fresno             2\n",
       "Marin              2\n",
       "Alameda            2\n",
       "Sacramento         2\n",
       "Imperial           2\n",
       "Santa Cruz         2\n",
       "Yolo               2\n",
       "Trinity            2\n",
       "Alpine             2\n",
       "Calaveras          2\n",
       "Mariposa           2\n",
       "Tuolumne           2\n",
       "Sierra             2\n",
       "Tehama             2\n",
       "Madera             2\n",
       "Modoc              2\n",
       "Merced             2\n",
       "Stanislaus         2\n",
       "Napa               2\n",
       "Sonoma             2\n",
       "Santa Barbara      2\n",
       "San Luis Obispo    2\n",
       "Humboldt           2\n",
       "San Francisco      2\n",
       "Tulare             2\n",
       "Plumas             2\n",
       "Orange             2\n",
       "Unassigned         2\n",
       "Butte              2\n",
       "Riverside          2\n",
       "Kings              2\n",
       "Contra Costa       2\n",
       "Monterey           2\n",
       "Nevada             2\n",
       "Placer             2\n",
       "Kern               2\n",
       "Ventura            2\n",
       "San Benito         2\n",
       "Name: county, dtype: int64"
      ]
     },
     "execution_count": 52,
     "metadata": {},
     "output_type": "execute_result"
    }
   ],
   "source": [
    "County_List=county_df.loc[county_df[\"date\"]==\"2/24/2021\"]\n",
    "County_List[\"county\"].value_counts()"
   ]
  },
  {
   "cell_type": "code",
   "execution_count": 54,
   "metadata": {},
   "outputs": [
    {
     "data": {
      "text/plain": [
       "Del Norte          1\n",
       "Mendocino          1\n",
       "San Diego          1\n",
       "Mono               1\n",
       "Siskiyou           1\n",
       "Solano             1\n",
       "San Joaquin        1\n",
       "Yuba               1\n",
       "Santa Clara        1\n",
       "Inyo               1\n",
       "Colusa             1\n",
       "Lake               1\n",
       "Sutter             1\n",
       "San Bernardino     1\n",
       "Los Angeles        1\n",
       "Lassen             1\n",
       "Amador             1\n",
       "Shasta             1\n",
       "El Dorado          1\n",
       "Out Of Country     1\n",
       "San Mateo          1\n",
       "Glenn              1\n",
       "Fresno             1\n",
       "Marin              1\n",
       "Alameda            1\n",
       "Sacramento         1\n",
       "Imperial           1\n",
       "Santa Cruz         1\n",
       "Yolo               1\n",
       "Trinity            1\n",
       "Alpine             1\n",
       "Calaveras          1\n",
       "Mariposa           1\n",
       "Tuolumne           1\n",
       "Sierra             1\n",
       "Tehama             1\n",
       "Madera             1\n",
       "Modoc              1\n",
       "Merced             1\n",
       "Stanislaus         1\n",
       "Napa               1\n",
       "Sonoma             1\n",
       "Santa Barbara      1\n",
       "San Luis Obispo    1\n",
       "Humboldt           1\n",
       "San Francisco      1\n",
       "Tulare             1\n",
       "Plumas             1\n",
       "Orange             1\n",
       "Unassigned         1\n",
       "Butte              1\n",
       "Riverside          1\n",
       "Kings              1\n",
       "Contra Costa       1\n",
       "Monterey           1\n",
       "Nevada             1\n",
       "Placer             1\n",
       "Kern               1\n",
       "Ventura            1\n",
       "San Benito         1\n",
       "Name: county, dtype: int64"
      ]
     },
     "execution_count": 54,
     "metadata": {},
     "output_type": "execute_result"
    }
   ],
   "source": [
    "Clean_county=County_List.drop_duplicates(subset=[\"county\"])\n",
    "Clean_county[\"county\"].value_counts()"
   ]
  },
  {
   "cell_type": "code",
   "execution_count": 62,
   "metadata": {},
   "outputs": [
    {
     "data": {
      "text/plain": [
       "Del Norte          1\n",
       "Lassen             1\n",
       "San Diego          1\n",
       "Mono               1\n",
       "Siskiyou           1\n",
       "Solano             1\n",
       "San Joaquin        1\n",
       "Yuba               1\n",
       "Santa Clara        1\n",
       "Inyo               1\n",
       "Colusa             1\n",
       "Lake               1\n",
       "Sutter             1\n",
       "Los Angeles        1\n",
       "Amador             1\n",
       "Alpine             1\n",
       "Shasta             1\n",
       "El Dorado          1\n",
       "San Bernardino     1\n",
       "San Mateo          1\n",
       "Glenn              1\n",
       "Fresno             1\n",
       "Marin              1\n",
       "Alameda            1\n",
       "Sacramento         1\n",
       "Imperial           1\n",
       "Santa Cruz         1\n",
       "Yolo               1\n",
       "Trinity            1\n",
       "Calaveras          1\n",
       "Mendocino          1\n",
       "Mariposa           1\n",
       "Tuolumne           1\n",
       "Sierra             1\n",
       "Tehama             1\n",
       "Madera             1\n",
       "Modoc              1\n",
       "Merced             1\n",
       "Stanislaus         1\n",
       "Napa               1\n",
       "Sonoma             1\n",
       "Santa Barbara      1\n",
       "San Luis Obispo    1\n",
       "Humboldt           1\n",
       "San Francisco      1\n",
       "Tulare             1\n",
       "Plumas             1\n",
       "Orange             1\n",
       "Unassigned         1\n",
       "Butte              1\n",
       "Riverside          1\n",
       "Kings              1\n",
       "Contra Costa       1\n",
       "Monterey           1\n",
       "Nevada             1\n",
       "Placer             1\n",
       "Kern               1\n",
       "Ventura            1\n",
       "San Benito         1\n",
       "Name: county, dtype: int64"
      ]
     },
     "execution_count": 62,
     "metadata": {},
     "output_type": "execute_result"
    }
   ],
   "source": [
    "Counties_df=Clean_county.loc[(Clean_county[\"county\"]!=\"Out Of Country\")]\n",
    "Counties_df[\"county\"].value_counts()"
   ]
  },
  {
   "cell_type": "code",
   "execution_count": 63,
   "metadata": {},
   "outputs": [
    {
     "data": {
      "text/plain": [
       "<PandasArray>\n",
       "[      'Del Norte',          'Fresno',      'Sacramento',            'Kern',\n",
       "       'El Dorado',            'Napa',          'Sutter',         'Alameda',\n",
       "         'Ventura',          'Alpine',     'San Joaquin',          'Plumas',\n",
       "    'Contra Costa',      'San Benito',            'Yuba',          'Lassen',\n",
       "      'Stanislaus',          'Sierra',          'Tulare',          'Tehama',\n",
       "        'Monterey',          'Nevada',        'Tuolumne',       'San Mateo',\n",
       "      'Unassigned',        'Mariposa',       'Mendocino',          'Amador',\n",
       "   'San Francisco',           'Modoc',   'Santa Barbara',            'Lake',\n",
       "        'Humboldt',          'Solano',         'Trinity',          'Merced',\n",
       "  'San Bernardino',          'Sonoma',       'Riverside',        'Imperial',\n",
       "       'San Diego',          'Orange',           'Glenn',           'Kings',\n",
       "          'Placer', 'San Luis Obispo',       'Calaveras',          'Colusa',\n",
       "          'Madera',      'Santa Cruz',        'Siskiyou',           'Marin',\n",
       "            'Yolo',            'Inyo',            'Mono',     'Los Angeles',\n",
       "     'Santa Clara',          'Shasta',           'Butte']\n",
       "Length: 59, dtype: object"
      ]
     },
     "execution_count": 63,
     "metadata": {},
     "output_type": "execute_result"
    }
   ],
   "source": [
    "Total_Cases=Counties_df.sort_values(\"totalcountconfirmed\",ascending=False )\n",
    "Total_Cases[\"county\"].array"
   ]
  },
  {
   "cell_type": "code",
   "execution_count": 64,
   "metadata": {},
   "outputs": [
    {
     "data": {
      "text/plain": [
       "<PandasArray>\n",
       "[    '960',   '94794',   '92742',   '91525',    '8993',    '8976',    '8778',\n",
       "   '80070',   '77238',      '77',   '65274',     '626',   '61776',    '5743',\n",
       "    '5425',    '5095',   '49851',      '47',   '46976',    '4566',   '41495',\n",
       "    '3927',    '3887',   '38763',      '38',     '374',    '3540',    '3444',\n",
       "   '34061',     '329',   '31563',    '3134',    '3123',   '29577',     '294',\n",
       "   '28295',  '280583',   '27954',  '278293',   '26843',  '258460',  '244743',\n",
       "    '2210',   '21871',   '19648',   '19309',    '1864',    '1863',   '15390',\n",
       "   '14458',    '1385',   '13044',   '12760',    '1253',    '1189', '1150322',\n",
       "  '109671',   '10922',   '10915']\n",
       "Length: 59, dtype: object"
      ]
     },
     "execution_count": 64,
     "metadata": {},
     "output_type": "execute_result"
    }
   ],
   "source": [
    "Total_Cases[\"totalcountconfirmed\"].array"
   ]
  },
  {
   "cell_type": "code",
   "execution_count": 65,
   "metadata": {},
   "outputs": [
    {
     "data": {
      "text/plain": [
       "<PandasArray>\n",
       "[    '5',  '1412',  '1456',   '786',    '98',    '68',    '96',  '1218',\n",
       "   '820',     '0',  '1061',     '6',   '655',    '59',    '36',    '19',\n",
       "   '941',     '0',   '739',    '52',   '323',    '74',    '59',   '502',\n",
       "     '0',     '7',    '43',    '40',   '394',     '4',   '398',    '40',\n",
       "    '33',   '164',     '5',   '394',  '2673',   '295',  '3707',   '586',\n",
       "  '3230',  '3848',    '23',   '218',   '231',   '221',    '47',    '13',\n",
       "   '209',   '181',    '14',   '197',   '185',    '36',     '4', '20987',\n",
       "  '1747',   '172',   '160']\n",
       "Length: 59, dtype: object"
      ]
     },
     "execution_count": 65,
     "metadata": {},
     "output_type": "execute_result"
    }
   ],
   "source": [
    "Total_Cases[\"totalcountdeaths\"].array"
   ]
  },
  {
   "cell_type": "code",
   "execution_count": 67,
   "metadata": {},
   "outputs": [
    {
     "data": {
      "text/html": [
       "<div>\n",
       "<style scoped>\n",
       "    .dataframe tbody tr th:only-of-type {\n",
       "        vertical-align: middle;\n",
       "    }\n",
       "\n",
       "    .dataframe tbody tr th {\n",
       "        vertical-align: top;\n",
       "    }\n",
       "\n",
       "    .dataframe thead th {\n",
       "        text-align: right;\n",
       "    }\n",
       "</style>\n",
       "<table border=\"1\" class=\"dataframe\">\n",
       "  <thead>\n",
       "    <tr style=\"text-align: right;\">\n",
       "      <th></th>\n",
       "      <th>County</th>\n",
       "      <th>Cases</th>\n",
       "      <th>Deaths</th>\n",
       "    </tr>\n",
       "  </thead>\n",
       "  <tbody>\n",
       "    <tr>\n",
       "      <th>0</th>\n",
       "      <td>Del Norte</td>\n",
       "      <td>960</td>\n",
       "      <td>5</td>\n",
       "    </tr>\n",
       "    <tr>\n",
       "      <th>1</th>\n",
       "      <td>Fresno</td>\n",
       "      <td>94794</td>\n",
       "      <td>1412</td>\n",
       "    </tr>\n",
       "    <tr>\n",
       "      <th>2</th>\n",
       "      <td>Sacramento</td>\n",
       "      <td>92742</td>\n",
       "      <td>1456</td>\n",
       "    </tr>\n",
       "    <tr>\n",
       "      <th>3</th>\n",
       "      <td>Kern</td>\n",
       "      <td>91525</td>\n",
       "      <td>786</td>\n",
       "    </tr>\n",
       "    <tr>\n",
       "      <th>4</th>\n",
       "      <td>El Dorado</td>\n",
       "      <td>8993</td>\n",
       "      <td>98</td>\n",
       "    </tr>\n",
       "  </tbody>\n",
       "</table>\n",
       "</div>"
      ],
      "text/plain": [
       "       County  Cases Deaths\n",
       "0   Del Norte    960      5\n",
       "1      Fresno  94794   1412\n",
       "2  Sacramento  92742   1456\n",
       "3        Kern  91525    786\n",
       "4   El Dorado   8993     98"
      ]
     },
     "execution_count": 67,
     "metadata": {},
     "output_type": "execute_result"
    }
   ],
   "source": [
    "county=['Del Norte',          'Fresno',      'Sacramento',            'Kern',\n",
    "       'El Dorado',            'Napa',          'Sutter',         'Alameda',\n",
    "         'Ventura',          'Alpine',     'San Joaquin',          'Plumas',\n",
    "    'Contra Costa',      'San Benito',            'Yuba',          'Lassen',\n",
    "      'Stanislaus',          'Sierra',          'Tulare',          'Tehama',\n",
    "        'Monterey',          'Nevada',        'Tuolumne',       'San Mateo',\n",
    "      'Unassigned',        'Mariposa',       'Mendocino',          'Amador',\n",
    "   'San Francisco',           'Modoc',   'Santa Barbara',            'Lake',\n",
    "        'Humboldt',          'Solano',         'Trinity',          'Merced',\n",
    "  'San Bernardino',          'Sonoma',       'Riverside',        'Imperial',\n",
    "       'San Diego',          'Orange',           'Glenn',           'Kings',\n",
    "          'Placer', 'San Luis Obispo',       'Calaveras',          'Colusa',\n",
    "          'Madera',      'Santa Cruz',        'Siskiyou',           'Marin',\n",
    "            'Yolo',            'Inyo',            'Mono',     'Los Angeles',\n",
    "     'Santa Clara',          'Shasta',           'Butte']\n",
    "\n",
    "Cases=[    '960',   '94794',   '92742',   '91525',    '8993',    '8976',    '8778',\n",
    "   '80070',   '77238',      '77',   '65274',     '626',   '61776',    '5743',\n",
    "    '5425',    '5095',   '49851',      '47',   '46976',    '4566',   '41495',\n",
    "    '3927',    '3887',   '38763',      '38',     '374',    '3540',    '3444',\n",
    "   '34061',     '329',   '31563',    '3134',    '3123',   '29577',     '294',\n",
    "   '28295',  '280583',   '27954',  '278293',   '26843',  '258460',  '244743',\n",
    "    '2210',   '21871',   '19648',   '19309',    '1864',    '1863',   '15390',\n",
    "   '14458',    '1385',   '13044',   '12760',    '1253',    '1189', '1150322',\n",
    "  '109671',   '10922',   '10915']\n",
    "\n",
    "Deaths=[    '5',  '1412',  '1456',   '786',    '98',    '68',    '96',  '1218',\n",
    "   '820',     '0',  '1061',     '6',   '655',    '59',    '36',    '19',\n",
    "   '941',     '0',   '739',    '52',   '323',    '74',    '59',   '502',\n",
    "     '0',     '7',    '43',    '40',   '394',     '4',   '398',    '40',\n",
    "    '33',   '164',     '5',   '394',  '2673',   '295',  '3707',   '586',\n",
    "  '3230',  '3848',    '23',   '218',   '231',   '221',    '47',    '13',\n",
    "   '209',   '181',    '14',   '197',   '185',    '36',     '4', '20987',\n",
    "  '1747',   '172',   '160']\n",
    "\n",
    "Final_df=pd.DataFrame({\"County\":county,\n",
    "                       \"Cases\":Cases,\n",
    "                       \"Deaths\":Deaths})\n",
    "\n",
    "Final_df.head()\n"
   ]
  },
  {
   "cell_type": "code",
   "execution_count": 82,
   "metadata": {},
   "outputs": [
    {
     "data": {
      "text/html": [
       "<div>\n",
       "<style scoped>\n",
       "    .dataframe tbody tr th:only-of-type {\n",
       "        vertical-align: middle;\n",
       "    }\n",
       "\n",
       "    .dataframe tbody tr th {\n",
       "        vertical-align: top;\n",
       "    }\n",
       "\n",
       "    .dataframe thead th {\n",
       "        text-align: right;\n",
       "    }\n",
       "</style>\n",
       "<table border=\"1\" class=\"dataframe\">\n",
       "  <thead>\n",
       "    <tr style=\"text-align: right;\">\n",
       "      <th></th>\n",
       "      <th>Cases</th>\n",
       "      <th>Deaths</th>\n",
       "    </tr>\n",
       "    <tr>\n",
       "      <th>County</th>\n",
       "      <th></th>\n",
       "      <th></th>\n",
       "    </tr>\n",
       "  </thead>\n",
       "  <tbody>\n",
       "    <tr>\n",
       "      <th>Alameda</th>\n",
       "      <td>80070</td>\n",
       "      <td>1218</td>\n",
       "    </tr>\n",
       "    <tr>\n",
       "      <th>Alpine</th>\n",
       "      <td>77</td>\n",
       "      <td>0</td>\n",
       "    </tr>\n",
       "    <tr>\n",
       "      <th>Amador</th>\n",
       "      <td>3444</td>\n",
       "      <td>40</td>\n",
       "    </tr>\n",
       "    <tr>\n",
       "      <th>Butte</th>\n",
       "      <td>10915</td>\n",
       "      <td>160</td>\n",
       "    </tr>\n",
       "    <tr>\n",
       "      <th>Calaveras</th>\n",
       "      <td>1864</td>\n",
       "      <td>47</td>\n",
       "    </tr>\n",
       "  </tbody>\n",
       "</table>\n",
       "</div>"
      ],
      "text/plain": [
       "           Cases Deaths\n",
       "County                 \n",
       "Alameda    80070   1218\n",
       "Alpine        77      0\n",
       "Amador      3444     40\n",
       "Butte      10915    160\n",
       "Calaveras   1864     47"
      ]
     },
     "execution_count": 82,
     "metadata": {},
     "output_type": "execute_result"
    }
   ],
   "source": [
    "Cases_df=Final_df.groupby([\"County\"]).sum()\n",
    "Cases_df.head()"
   ]
  },
  {
   "cell_type": "code",
   "execution_count": 96,
   "metadata": {},
   "outputs": [
    {
     "data": {
      "image/png": "[encoded data removed]",
      "text/plain": [
       "<Figure size 432x288 with 1 Axes>"
      ]
     },
     "metadata": {
      "needs_background": "light"
     },
     "output_type": "display_data"
    }
   ],
   "source": [
    "Counties = Final_df[\"County\"]\n",
    "Cases_load = Final_df[\"Deaths\"]\n",
    "plt.title(\"Number of cases per Ethnicity\")\n",
    "plt.ylabel(\"Number of cases (per million)\")\n",
    "plt.xlabel(\"Ethnicity\")\n",
    "width = 0.5 \n",
    "plt.xticks(rotation=90)\n",
    "plt.bar(Counties, Cases_load, width)\n",
    "plt.tick_params(axis=\"x\", which=\"major\", labelsize=9)\n",
    "\n",
    "plt.show()"
   ]
  },
  {
   "cell_type": "code",
   "execution_count": 87,
   "metadata": {},
   "outputs": [
    {
     "data": {
      "text/plain": [
       "Text(0.5, 1.0, 'Percentage of Cases for Genders impacted by COVID in California')"
      ]
     },
     "execution_count": 87,
     "metadata": {},
     "output_type": "execute_result"
    },
    {
     "data": {
      "image/png": "[encoded data removed]",
      "text/plain": [
       "<Figure size 432x288 with 1 Axes>"
      ]
     },
     "metadata": {},
     "output_type": "display_data"
    }
   ],
   "source": [
    "#Pie chart of the percentage(%) of genders impacted in California \n",
    "sizes=Final_df[\"Deaths\"]\n",
    "\n",
    "labels=Final_df[\"County\"].unique()\n",
    "\n",
    "explode= (0,0,0,0,0,0,0,0,0,0,0,0,0,0,0,0,0,0,0,0,0,0,0,0,0,0,0,0,0,0,0,0,0,0,0,0,0,0,0,0,0,0,0,0,0,0,0,0,0,0,0,0,0,0,0,0,0,0,0)\n",
    "\n",
    "plt.pie(sizes, labels=labels,explode=explode,\n",
    "        autopct=\"%1.1f%%\", shadow=True, startangle=140)\n",
    "\n",
    "plt.title(\"Percentage of deaths per county impacted by COVID in California\")"
   ]
  },
  {
   "cell_type": "code",
   "execution_count": 88,
   "metadata": {},
   "outputs": [
    {
     "data": {
      "text/plain": [
       "Text(0.5, 1.0, 'Percentage of Cases for Genders impacted by COVID in California')"
      ]
     },
     "execution_count": 88,
     "metadata": {},
     "output_type": "execute_result"
    },
    {
     "data": {
      "image/png": "[encoded data removed]",
      "text/plain": [
       "<Figure size 432x288 with 1 Axes>"
      ]
     },
     "metadata": {},
     "output_type": "display_data"
    }
   ],
   "source": [
    "#Pie chart of the percentage(%) of genders impacted in California \n",
    "size=Final_df[\"Cases\"]\n",
    "\n",
    "label=Final_df[\"County\"].unique()\n",
    "\n",
    "explode= (0,0,0,0,0,0,0,0,0,0,0,0,0,0,0,0,0,0,0,0,0,0,0,0,0,0,0,0,0,0,0,0,0,0,0,0,0,0,0,0,0,0,0,0,0,0,0,0,0,0,0,0,0,0,0,0,0,0,0)\n",
    "\n",
    "plt.pie(size, labels=label,explode=explode,\n",
    "        autopct=\"%1.1f%%\", shadow=True, startangle=140)\n",
    "\n",
    "plt.title(\"Percentage of Cases per county impacted by COVID in California\")"
   ]
  },
  {
   "cell_type": "code",
   "execution_count": null,
   "metadata": {},
   "outputs": [],
   "source": []
  }
 ],
 "metadata": {
  "kernelspec": {
   "display_name": "Python 3",
   "language": "python",
   "name": "python3"
  },
  "language_info": {
   "codemirror_mode": {
    "name": "ipython",
    "version": 3
   },
   "file_extension": ".py",
   "mimetype": "text/x-python",
   "name": "python",
   "nbconvert_exporter": "python",
   "pygments_lexer": "ipython3",
   "version": "3.8.5"
  }
 },
 "nbformat": 4,
 "nbformat_minor": 4
}
