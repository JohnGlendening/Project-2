{
 "cells": [
  {
   "cell_type": "code",
   "execution_count": 1,
   "metadata": {},
   "outputs": [],
   "source": [
    "# Dependencies and Setup\n",
    "import matplotlib.pyplot as plt\n",
    "import pandas as pd\n",
    "import scipy.stats as st\n",
    "import numpy as np\n",
    "from scipy.stats import sem\n",
    "import random\n",
    "from scipy.stats import linregress\n",
    "from sklearn import datasets\n",
    "import scipy.stats as sts\n",
    "import requests\n",
    "import time\n",
    "from scipy.stats import linregress\n"
   ]
  },
  {
   "cell_type": "code",
   "execution_count": 2,
   "metadata": {},
   "outputs": [],
   "source": [
    "# File to Load (Remember to Change These)\n",
    "file2=\"case_demographics_age.csv\"\n",
    "\n",
    "# Read Purchasing File and store into Pandas data frame\n",
    "\n",
    "df= pd.read_csv(file2)"
   ]
  },
  {
   "cell_type": "code",
   "execution_count": 3,
   "metadata": {},
   "outputs": [
    {
     "data": {
      "text/html": [
       "<div>\n",
       "<style scoped>\n",
       "    .dataframe tbody tr th:only-of-type {\n",
       "        vertical-align: middle;\n",
       "    }\n",
       "\n",
       "    .dataframe tbody tr th {\n",
       "        vertical-align: top;\n",
       "    }\n",
       "\n",
       "    .dataframe thead th {\n",
       "        text-align: right;\n",
       "    }\n",
       "</style>\n",
       "<table border=\"1\" class=\"dataframe\">\n",
       "  <thead>\n",
       "    <tr style=\"text-align: right;\">\n",
       "      <th></th>\n",
       "      <th>age_group</th>\n",
       "      <th>totalpositive</th>\n",
       "      <th>date</th>\n",
       "      <th>case_percent</th>\n",
       "      <th>deaths</th>\n",
       "      <th>deaths_percent</th>\n",
       "      <th>ca_percent</th>\n",
       "    </tr>\n",
       "  </thead>\n",
       "  <tbody>\n",
       "    <tr>\n",
       "      <th>0</th>\n",
       "      <td>0-17</td>\n",
       "      <td>120</td>\n",
       "      <td>4/2/2020</td>\n",
       "      <td>NaN</td>\n",
       "      <td>NaN</td>\n",
       "      <td>NaN</td>\n",
       "      <td>NaN</td>\n",
       "    </tr>\n",
       "    <tr>\n",
       "      <th>1</th>\n",
       "      <td>18-49</td>\n",
       "      <td>5302</td>\n",
       "      <td>4/2/2020</td>\n",
       "      <td>NaN</td>\n",
       "      <td>NaN</td>\n",
       "      <td>NaN</td>\n",
       "      <td>NaN</td>\n",
       "    </tr>\n",
       "    <tr>\n",
       "      <th>2</th>\n",
       "      <td>50-64</td>\n",
       "      <td>2879</td>\n",
       "      <td>4/2/2020</td>\n",
       "      <td>NaN</td>\n",
       "      <td>NaN</td>\n",
       "      <td>NaN</td>\n",
       "      <td>NaN</td>\n",
       "    </tr>\n",
       "    <tr>\n",
       "      <th>3</th>\n",
       "      <td>65 and Older</td>\n",
       "      <td>2342</td>\n",
       "      <td>4/2/2020</td>\n",
       "      <td>NaN</td>\n",
       "      <td>NaN</td>\n",
       "      <td>NaN</td>\n",
       "      <td>NaN</td>\n",
       "    </tr>\n",
       "    <tr>\n",
       "      <th>4</th>\n",
       "      <td>Unknown</td>\n",
       "      <td>58</td>\n",
       "      <td>4/2/2020</td>\n",
       "      <td>NaN</td>\n",
       "      <td>NaN</td>\n",
       "      <td>NaN</td>\n",
       "      <td>NaN</td>\n",
       "    </tr>\n",
       "  </tbody>\n",
       "</table>\n",
       "</div>"
      ],
      "text/plain": [
       "      age_group totalpositive      date case_percent deaths deaths_percent  \\\n",
       "0          0-17           120  4/2/2020          NaN    NaN            NaN   \n",
       "1         18-49          5302  4/2/2020          NaN    NaN            NaN   \n",
       "2         50-64          2879  4/2/2020          NaN    NaN            NaN   \n",
       "3  65 and Older          2342  4/2/2020          NaN    NaN            NaN   \n",
       "4       Unknown            58  4/2/2020          NaN    NaN            NaN   \n",
       "\n",
       "  ca_percent  \n",
       "0        NaN  \n",
       "1        NaN  \n",
       "2        NaN  \n",
       "3        NaN  \n",
       "4        NaN  "
      ]
     },
     "execution_count": 3,
     "metadata": {},
     "output_type": "execute_result"
    }
   ],
   "source": [
    "df.head()"
   ]
  },
  {
   "cell_type": "code",
   "execution_count": 4,
   "metadata": {},
   "outputs": [
    {
     "data": {
      "text/html": [
       "<div>\n",
       "<style scoped>\n",
       "    .dataframe tbody tr th:only-of-type {\n",
       "        vertical-align: middle;\n",
       "    }\n",
       "\n",
       "    .dataframe tbody tr th {\n",
       "        vertical-align: top;\n",
       "    }\n",
       "\n",
       "    .dataframe thead th {\n",
       "        text-align: right;\n",
       "    }\n",
       "</style>\n",
       "<table border=\"1\" class=\"dataframe\">\n",
       "  <thead>\n",
       "    <tr style=\"text-align: right;\">\n",
       "      <th></th>\n",
       "      <th>age_group</th>\n",
       "      <th>totalpositive</th>\n",
       "      <th>date</th>\n",
       "      <th>case_percent</th>\n",
       "      <th>deaths</th>\n",
       "      <th>deaths_percent</th>\n",
       "      <th>ca_percent</th>\n",
       "    </tr>\n",
       "  </thead>\n",
       "  <tbody>\n",
       "    <tr>\n",
       "      <th>100</th>\n",
       "      <td>0-17</td>\n",
       "      <td>855</td>\n",
       "      <td>4/22/2020</td>\n",
       "      <td>2.29</td>\n",
       "      <td>0</td>\n",
       "      <td>0</td>\n",
       "      <td>22.49</td>\n",
       "    </tr>\n",
       "    <tr>\n",
       "      <th>101</th>\n",
       "      <td>18-49</td>\n",
       "      <td>18004</td>\n",
       "      <td>4/22/2020</td>\n",
       "      <td>48.18</td>\n",
       "      <td>99</td>\n",
       "      <td>7.09</td>\n",
       "      <td>43.52</td>\n",
       "    </tr>\n",
       "    <tr>\n",
       "      <th>102</th>\n",
       "      <td>50-64</td>\n",
       "      <td>10025</td>\n",
       "      <td>4/22/2020</td>\n",
       "      <td>26.83</td>\n",
       "      <td>223</td>\n",
       "      <td>15.97</td>\n",
       "      <td>18.42</td>\n",
       "    </tr>\n",
       "    <tr>\n",
       "      <th>103</th>\n",
       "      <td>65 and Older</td>\n",
       "      <td>8401</td>\n",
       "      <td>4/22/2020</td>\n",
       "      <td>22.48</td>\n",
       "      <td>1074</td>\n",
       "      <td>76.93</td>\n",
       "      <td>15.57</td>\n",
       "    </tr>\n",
       "    <tr>\n",
       "      <th>105</th>\n",
       "      <td>0-17</td>\n",
       "      <td>936</td>\n",
       "      <td>4/23/2020</td>\n",
       "      <td>2.38</td>\n",
       "      <td>0</td>\n",
       "      <td>0</td>\n",
       "      <td>22.49</td>\n",
       "    </tr>\n",
       "  </tbody>\n",
       "</table>\n",
       "</div>"
      ],
      "text/plain": [
       "        age_group totalpositive       date case_percent deaths deaths_percent  \\\n",
       "100          0-17           855  4/22/2020         2.29      0              0   \n",
       "101         18-49         18004  4/22/2020        48.18     99           7.09   \n",
       "102         50-64         10025  4/22/2020        26.83    223          15.97   \n",
       "103  65 and Older          8401  4/22/2020        22.48   1074          76.93   \n",
       "105          0-17           936  4/23/2020         2.38      0              0   \n",
       "\n",
       "    ca_percent  \n",
       "100      22.49  \n",
       "101      43.52  \n",
       "102      18.42  \n",
       "103      15.57  \n",
       "105      22.49  "
      ]
     },
     "execution_count": 4,
     "metadata": {},
     "output_type": "execute_result"
    }
   ],
   "source": [
    "age_df=df.dropna(how=\"any\")\n",
    "age_df.head()"
   ]
  },
  {
   "cell_type": "code",
   "execution_count": 5,
   "metadata": {},
   "outputs": [
    {
     "data": {
      "text/plain": [
       "age_group         3071\n",
       "totalpositive     3071\n",
       "date              3071\n",
       "case_percent      3071\n",
       "deaths            3071\n",
       "deaths_percent    3071\n",
       "ca_percent        3071\n",
       "dtype: int64"
      ]
     },
     "execution_count": 5,
     "metadata": {},
     "output_type": "execute_result"
    }
   ],
   "source": [
    "age_df.count()"
   ]
  },
  {
   "cell_type": "code",
   "execution_count": 6,
   "metadata": {},
   "outputs": [
    {
     "data": {
      "text/plain": [
       "0-17            618\n",
       "18-49           618\n",
       "50-64           618\n",
       "65+             606\n",
       "Missing         538\n",
       "Unknown          60\n",
       "65 and Older     12\n",
       "age_group         1\n",
       "Name: age_group, dtype: int64"
      ]
     },
     "execution_count": 6,
     "metadata": {},
     "output_type": "execute_result"
    }
   ],
   "source": [
    "age_df[\"age_group\"].value_counts()"
   ]
  },
  {
   "cell_type": "code",
   "execution_count": 7,
   "metadata": {},
   "outputs": [
    {
     "data": {
      "text/plain": [
       "0-17            618\n",
       "18-49           618\n",
       "50-64           618\n",
       "65+             606\n",
       "Missing         538\n",
       "Unknown          60\n",
       "65 and Older     12\n",
       "Name: age_group, dtype: int64"
      ]
     },
     "execution_count": 7,
     "metadata": {},
     "output_type": "execute_result"
    }
   ],
   "source": [
    "age_df=age_df.loc[(age_df[\"age_group\"]!=\"age_group\")]\n",
    "age_df[\"age_group\"].value_counts()"
   ]
  },
  {
   "cell_type": "code",
   "execution_count": 8,
   "metadata": {},
   "outputs": [
    {
     "data": {
      "text/html": [
       "<div>\n",
       "<style scoped>\n",
       "    .dataframe tbody tr th:only-of-type {\n",
       "        vertical-align: middle;\n",
       "    }\n",
       "\n",
       "    .dataframe tbody tr th {\n",
       "        vertical-align: top;\n",
       "    }\n",
       "\n",
       "    .dataframe thead th {\n",
       "        text-align: right;\n",
       "    }\n",
       "</style>\n",
       "<table border=\"1\" class=\"dataframe\">\n",
       "  <thead>\n",
       "    <tr style=\"text-align: right;\">\n",
       "      <th></th>\n",
       "      <th>age_group</th>\n",
       "      <th>totalpositive</th>\n",
       "      <th>date</th>\n",
       "      <th>case_percent</th>\n",
       "      <th>deaths</th>\n",
       "      <th>deaths_percent</th>\n",
       "      <th>ca_percent</th>\n",
       "    </tr>\n",
       "  </thead>\n",
       "  <tbody>\n",
       "    <tr>\n",
       "      <th>3287</th>\n",
       "      <td>0-17</td>\n",
       "      <td>444547</td>\n",
       "      <td>2/24/2021</td>\n",
       "      <td>12.8</td>\n",
       "      <td>14</td>\n",
       "      <td>0</td>\n",
       "      <td>22.5</td>\n",
       "    </tr>\n",
       "    <tr>\n",
       "      <th>3288</th>\n",
       "      <td>18-49</td>\n",
       "      <td>1983548</td>\n",
       "      <td>2/24/2021</td>\n",
       "      <td>57.3</td>\n",
       "      <td>3377</td>\n",
       "      <td>6.7</td>\n",
       "      <td>43.5</td>\n",
       "    </tr>\n",
       "    <tr>\n",
       "      <th>3289</th>\n",
       "      <td>50-64</td>\n",
       "      <td>660785</td>\n",
       "      <td>2/24/2021</td>\n",
       "      <td>19.1</td>\n",
       "      <td>9741</td>\n",
       "      <td>19.2</td>\n",
       "      <td>18.4</td>\n",
       "    </tr>\n",
       "    <tr>\n",
       "      <th>3290</th>\n",
       "      <td>65+</td>\n",
       "      <td>369313</td>\n",
       "      <td>2/24/2021</td>\n",
       "      <td>10.7</td>\n",
       "      <td>37510</td>\n",
       "      <td>74.1</td>\n",
       "      <td>15.6</td>\n",
       "    </tr>\n",
       "    <tr>\n",
       "      <th>3291</th>\n",
       "      <td>Missing</td>\n",
       "      <td>2133</td>\n",
       "      <td>2/24/2021</td>\n",
       "      <td>0.1</td>\n",
       "      <td>6</td>\n",
       "      <td>0</td>\n",
       "      <td>0</td>\n",
       "    </tr>\n",
       "  </tbody>\n",
       "</table>\n",
       "</div>"
      ],
      "text/plain": [
       "     age_group totalpositive       date case_percent deaths deaths_percent  \\\n",
       "3287      0-17        444547  2/24/2021         12.8     14              0   \n",
       "3288     18-49       1983548  2/24/2021         57.3   3377            6.7   \n",
       "3289     50-64        660785  2/24/2021         19.1   9741           19.2   \n",
       "3290       65+        369313  2/24/2021         10.7  37510           74.1   \n",
       "3291   Missing          2133  2/24/2021          0.1      6              0   \n",
       "\n",
       "     ca_percent  \n",
       "3287       22.5  \n",
       "3288       43.5  \n",
       "3289       18.4  \n",
       "3290       15.6  \n",
       "3291          0  "
      ]
     },
     "execution_count": 8,
     "metadata": {},
     "output_type": "execute_result"
    }
   ],
   "source": [
    "age_df.tail()"
   ]
  },
  {
   "cell_type": "code",
   "execution_count": 9,
   "metadata": {},
   "outputs": [
    {
     "data": {
      "text/html": [
       "<div>\n",
       "<style scoped>\n",
       "    .dataframe tbody tr th:only-of-type {\n",
       "        vertical-align: middle;\n",
       "    }\n",
       "\n",
       "    .dataframe tbody tr th {\n",
       "        vertical-align: top;\n",
       "    }\n",
       "\n",
       "    .dataframe thead th {\n",
       "        text-align: right;\n",
       "    }\n",
       "</style>\n",
       "<table border=\"1\" class=\"dataframe\">\n",
       "  <thead>\n",
       "    <tr style=\"text-align: right;\">\n",
       "      <th></th>\n",
       "      <th>age_group</th>\n",
       "      <th>totalpositive</th>\n",
       "      <th>date</th>\n",
       "      <th>case_percent</th>\n",
       "      <th>deaths</th>\n",
       "      <th>deaths_percent</th>\n",
       "      <th>ca_percent</th>\n",
       "    </tr>\n",
       "  </thead>\n",
       "  <tbody>\n",
       "    <tr>\n",
       "      <th>1951</th>\n",
       "      <td>Unknown</td>\n",
       "      <td>155</td>\n",
       "      <td>5/27/2020</td>\n",
       "      <td>0.2</td>\n",
       "      <td>0</td>\n",
       "      <td>0</td>\n",
       "      <td>0</td>\n",
       "    </tr>\n",
       "    <tr>\n",
       "      <th>1956</th>\n",
       "      <td>Unknown</td>\n",
       "      <td>159</td>\n",
       "      <td>5/28/2020</td>\n",
       "      <td>0.2</td>\n",
       "      <td>0</td>\n",
       "      <td>0</td>\n",
       "      <td>0</td>\n",
       "    </tr>\n",
       "    <tr>\n",
       "      <th>1961</th>\n",
       "      <td>Unknown</td>\n",
       "      <td>169</td>\n",
       "      <td>5/29/2020</td>\n",
       "      <td>0.2</td>\n",
       "      <td>0</td>\n",
       "      <td>0</td>\n",
       "      <td>0</td>\n",
       "    </tr>\n",
       "    <tr>\n",
       "      <th>1966</th>\n",
       "      <td>Unknown</td>\n",
       "      <td>172</td>\n",
       "      <td>5/30/2020</td>\n",
       "      <td>0.2</td>\n",
       "      <td>0</td>\n",
       "      <td>0</td>\n",
       "      <td>0</td>\n",
       "    </tr>\n",
       "    <tr>\n",
       "      <th>1971</th>\n",
       "      <td>Unknown</td>\n",
       "      <td>177</td>\n",
       "      <td>5/31/2020</td>\n",
       "      <td>0.2</td>\n",
       "      <td>0</td>\n",
       "      <td>0</td>\n",
       "      <td>0</td>\n",
       "    </tr>\n",
       "  </tbody>\n",
       "</table>\n",
       "</div>"
      ],
      "text/plain": [
       "     age_group totalpositive       date case_percent deaths deaths_percent  \\\n",
       "1951   Unknown           155  5/27/2020          0.2      0              0   \n",
       "1956   Unknown           159  5/28/2020          0.2      0              0   \n",
       "1961   Unknown           169  5/29/2020          0.2      0              0   \n",
       "1966   Unknown           172  5/30/2020          0.2      0              0   \n",
       "1971   Unknown           177  5/31/2020          0.2      0              0   \n",
       "\n",
       "     ca_percent  \n",
       "1951          0  \n",
       "1956          0  \n",
       "1961          0  \n",
       "1966          0  \n",
       "1971          0  "
      ]
     },
     "execution_count": 9,
     "metadata": {},
     "output_type": "execute_result"
    }
   ],
   "source": [
    "check=age_df.loc[age_df[\"age_group\"]==\"Unknown\"]\n",
    "check.tail()"
   ]
  },
  {
   "cell_type": "code",
   "execution_count": 10,
   "metadata": {},
   "outputs": [
    {
     "data": {
      "text/html": [
       "<div>\n",
       "<style scoped>\n",
       "    .dataframe tbody tr th:only-of-type {\n",
       "        vertical-align: middle;\n",
       "    }\n",
       "\n",
       "    .dataframe tbody tr th {\n",
       "        vertical-align: top;\n",
       "    }\n",
       "\n",
       "    .dataframe thead th {\n",
       "        text-align: right;\n",
       "    }\n",
       "</style>\n",
       "<table border=\"1\" class=\"dataframe\">\n",
       "  <thead>\n",
       "    <tr style=\"text-align: right;\">\n",
       "      <th></th>\n",
       "      <th>age_group</th>\n",
       "      <th>totalpositive</th>\n",
       "      <th>date</th>\n",
       "      <th>case_percent</th>\n",
       "      <th>deaths</th>\n",
       "      <th>deaths_percent</th>\n",
       "      <th>ca_percent</th>\n",
       "    </tr>\n",
       "  </thead>\n",
       "  <tbody>\n",
       "    <tr>\n",
       "      <th>1755</th>\n",
       "      <td>65 and Older</td>\n",
       "      <td>8832</td>\n",
       "      <td>4/23/2020</td>\n",
       "      <td>22.5</td>\n",
       "      <td>1148</td>\n",
       "      <td>77.1</td>\n",
       "      <td>15.57</td>\n",
       "    </tr>\n",
       "    <tr>\n",
       "      <th>1760</th>\n",
       "      <td>65 and Older</td>\n",
       "      <td>9256</td>\n",
       "      <td>4/24/2020</td>\n",
       "      <td>22.5</td>\n",
       "      <td>1215</td>\n",
       "      <td>77.24</td>\n",
       "      <td>15.57</td>\n",
       "    </tr>\n",
       "    <tr>\n",
       "      <th>1765</th>\n",
       "      <td>65 and Older</td>\n",
       "      <td>9512</td>\n",
       "      <td>4/25/2020</td>\n",
       "      <td>22.56</td>\n",
       "      <td>1276</td>\n",
       "      <td>77.47</td>\n",
       "      <td>15.57</td>\n",
       "    </tr>\n",
       "    <tr>\n",
       "      <th>1770</th>\n",
       "      <td>65 and Older</td>\n",
       "      <td>9824</td>\n",
       "      <td>4/26/2020</td>\n",
       "      <td>22.6</td>\n",
       "      <td>1299</td>\n",
       "      <td>77.51</td>\n",
       "      <td>15.57</td>\n",
       "    </tr>\n",
       "    <tr>\n",
       "      <th>1775</th>\n",
       "      <td>65 and Older</td>\n",
       "      <td>10086</td>\n",
       "      <td>4/27/2020</td>\n",
       "      <td>22.4</td>\n",
       "      <td>1336</td>\n",
       "      <td>77.63</td>\n",
       "      <td>15.57</td>\n",
       "    </tr>\n",
       "  </tbody>\n",
       "</table>\n",
       "</div>"
      ],
      "text/plain": [
       "         age_group totalpositive       date case_percent deaths  \\\n",
       "1755  65 and Older          8832  4/23/2020         22.5   1148   \n",
       "1760  65 and Older          9256  4/24/2020         22.5   1215   \n",
       "1765  65 and Older          9512  4/25/2020        22.56   1276   \n",
       "1770  65 and Older          9824  4/26/2020         22.6   1299   \n",
       "1775  65 and Older         10086  4/27/2020         22.4   1336   \n",
       "\n",
       "     deaths_percent ca_percent  \n",
       "1755           77.1      15.57  \n",
       "1760          77.24      15.57  \n",
       "1765          77.47      15.57  \n",
       "1770          77.51      15.57  \n",
       "1775          77.63      15.57  "
      ]
     },
     "execution_count": 10,
     "metadata": {},
     "output_type": "execute_result"
    }
   ],
   "source": [
    "check2=age_df.loc[age_df[\"age_group\"]==\"65 and Older\"]\n",
    "check2.tail()"
   ]
  },
  {
   "cell_type": "code",
   "execution_count": 11,
   "metadata": {},
   "outputs": [
    {
     "data": {
      "text/html": [
       "<div>\n",
       "<style scoped>\n",
       "    .dataframe tbody tr th:only-of-type {\n",
       "        vertical-align: middle;\n",
       "    }\n",
       "\n",
       "    .dataframe tbody tr th {\n",
       "        vertical-align: top;\n",
       "    }\n",
       "\n",
       "    .dataframe thead th {\n",
       "        text-align: right;\n",
       "    }\n",
       "</style>\n",
       "<table border=\"1\" class=\"dataframe\">\n",
       "  <thead>\n",
       "    <tr style=\"text-align: right;\">\n",
       "      <th></th>\n",
       "      <th>Age Groups</th>\n",
       "      <th>Cases</th>\n",
       "      <th>Deaths</th>\n",
       "    </tr>\n",
       "  </thead>\n",
       "  <tbody>\n",
       "    <tr>\n",
       "      <th>0</th>\n",
       "      <td>0-17</td>\n",
       "      <td>444547</td>\n",
       "      <td>14</td>\n",
       "    </tr>\n",
       "    <tr>\n",
       "      <th>1</th>\n",
       "      <td>18-49</td>\n",
       "      <td>1983548</td>\n",
       "      <td>3377</td>\n",
       "    </tr>\n",
       "    <tr>\n",
       "      <th>2</th>\n",
       "      <td>50-64</td>\n",
       "      <td>660785</td>\n",
       "      <td>9741</td>\n",
       "    </tr>\n",
       "    <tr>\n",
       "      <th>3</th>\n",
       "      <td>65+</td>\n",
       "      <td>379399</td>\n",
       "      <td>38846</td>\n",
       "    </tr>\n",
       "  </tbody>\n",
       "</table>\n",
       "</div>"
      ],
      "text/plain": [
       "  Age Groups    Cases  Deaths\n",
       "0       0-17   444547      14\n",
       "1      18-49  1983548    3377\n",
       "2      50-64   660785    9741\n",
       "3        65+   379399   38846"
      ]
     },
     "execution_count": 11,
     "metadata": {},
     "output_type": "execute_result"
    }
   ],
   "source": [
    "age_group=[\"0-17\",\"18-49\",\"50-64\",\"65+\"]\n",
    "Cases=[444547,1983548,660785,(369313+10086)]\n",
    "Deaths=[14,3377,9741,(37510+1336)]\n",
    "\n",
    "Cali_Age_df=pd.DataFrame({\"Age Groups\":age_group,\n",
    "                       \"Cases\":Cases,\n",
    "                       \"Deaths\":Deaths})\n",
    "\n",
    "Cali_Age_df"
   ]
  },
  {
   "cell_type": "code",
   "execution_count": 12,
   "metadata": {},
   "outputs": [
    {
     "data": {
      "text/html": [
       "<div>\n",
       "<style scoped>\n",
       "    .dataframe tbody tr th:only-of-type {\n",
       "        vertical-align: middle;\n",
       "    }\n",
       "\n",
       "    .dataframe tbody tr th {\n",
       "        vertical-align: top;\n",
       "    }\n",
       "\n",
       "    .dataframe thead th {\n",
       "        text-align: right;\n",
       "    }\n",
       "</style>\n",
       "<table border=\"1\" class=\"dataframe\">\n",
       "  <thead>\n",
       "    <tr style=\"text-align: right;\">\n",
       "      <th></th>\n",
       "      <th>Cases</th>\n",
       "      <th>Deaths</th>\n",
       "    </tr>\n",
       "  </thead>\n",
       "  <tbody>\n",
       "    <tr>\n",
       "      <th>count</th>\n",
       "      <td>4.000000e+00</td>\n",
       "      <td>4.00000</td>\n",
       "    </tr>\n",
       "    <tr>\n",
       "      <th>mean</th>\n",
       "      <td>8.670698e+05</td>\n",
       "      <td>12994.50000</td>\n",
       "    </tr>\n",
       "    <tr>\n",
       "      <th>std</th>\n",
       "      <td>7.539729e+05</td>\n",
       "      <td>17700.04709</td>\n",
       "    </tr>\n",
       "    <tr>\n",
       "      <th>min</th>\n",
       "      <td>3.793990e+05</td>\n",
       "      <td>14.00000</td>\n",
       "    </tr>\n",
       "    <tr>\n",
       "      <th>25%</th>\n",
       "      <td>4.282600e+05</td>\n",
       "      <td>2536.25000</td>\n",
       "    </tr>\n",
       "    <tr>\n",
       "      <th>50%</th>\n",
       "      <td>5.526660e+05</td>\n",
       "      <td>6559.00000</td>\n",
       "    </tr>\n",
       "    <tr>\n",
       "      <th>75%</th>\n",
       "      <td>9.914758e+05</td>\n",
       "      <td>17017.25000</td>\n",
       "    </tr>\n",
       "    <tr>\n",
       "      <th>max</th>\n",
       "      <td>1.983548e+06</td>\n",
       "      <td>38846.00000</td>\n",
       "    </tr>\n",
       "  </tbody>\n",
       "</table>\n",
       "</div>"
      ],
      "text/plain": [
       "              Cases       Deaths\n",
       "count  4.000000e+00      4.00000\n",
       "mean   8.670698e+05  12994.50000\n",
       "std    7.539729e+05  17700.04709\n",
       "min    3.793990e+05     14.00000\n",
       "25%    4.282600e+05   2536.25000\n",
       "50%    5.526660e+05   6559.00000\n",
       "75%    9.914758e+05  17017.25000\n",
       "max    1.983548e+06  38846.00000"
      ]
     },
     "execution_count": 12,
     "metadata": {},
     "output_type": "execute_result"
    }
   ],
   "source": [
    "Cali_Age_df.describe()"
   ]
  },
  {
   "cell_type": "code",
   "execution_count": 13,
   "metadata": {},
   "outputs": [
    {
     "data": {
      "text/plain": [
       "Text(0.5, 1.0, 'Percentage of Cases for Age Groups impacted by COVID in California')"
      ]
     },
     "execution_count": 13,
     "metadata": {},
     "output_type": "execute_result"
    },
    {
     "data": {
      "image/png": "[encoded data removed]",
      "text/plain": [
       "<Figure size 432x288 with 1 Axes>"
      ]
     },
     "metadata": {},
     "output_type": "display_data"
    }
   ],
   "source": [
    "#Pie chart of the percentage(%) of genders impacted in California \n",
    "sizes=Cali_Age_df[\"Cases\"]\n",
    "\n",
    "labels=Cali_Age_df[\"Age Groups\"].unique()\n",
    "\n",
    "explode= (0.05,0,0,.05)\n",
    "\n",
    "plt.pie(sizes, labels=labels,explode=explode,\n",
    "        autopct=\"%1.1f%%\", shadow=True, startangle=140)\n",
    "\n",
    "plt.title(\"Percentage of Cases for Age Groups impacted by COVID in California\")"
   ]
  },
  {
   "cell_type": "code",
   "execution_count": 14,
   "metadata": {},
   "outputs": [
    {
     "data": {
      "image/png": "[encoded data removed]",
      "text/plain": [
       "<Figure size 432x288 with 1 Axes>"
      ]
     },
     "metadata": {
      "needs_background": "light"
     },
     "output_type": "display_data"
    }
   ],
   "source": [
    "Ages = Cali_Age_df[\"Age Groups\"]\n",
    "Cases_load = Cali_Age_df[\"Cases\"]\n",
    "plt.title(\"Number of cases per Age Groups\")\n",
    "plt.ylabel(\"Number of cases (per million)\")\n",
    "plt.xlabel(\"Age Groups\")\n",
    "width = 0.5 \n",
    "plt.xticks(rotation=90)\n",
    "plt.bar(Ages, Cases_load, width)\n",
    "plt.tick_params(axis=\"x\", which=\"major\", labelsize=12)\n",
    "plt.show()"
   ]
  },
  {
   "cell_type": "code",
   "execution_count": 17,
   "metadata": {},
   "outputs": [
    {
     "data": {
      "text/plain": [
       "Text(0.5, 1.0, 'Percentage of Deaths for Age Groups impacted by COVID in California')"
      ]
     },
     "execution_count": 17,
     "metadata": {},
     "output_type": "execute_result"
    },
    {
     "data": {
      "image/png": "[encoded data removed]",
      "text/plain": [
       "<Figure size 432x288 with 1 Axes>"
      ]
     },
     "metadata": {},
     "output_type": "display_data"
    }
   ],
   "source": [
    "#Pie chart of the percentage(%) of genders impacted in California \n",
    "size=Cali_Age_df[\"Deaths\"]\n",
    "\n",
    "label=Cali_Age_df[\"Age Groups\"].unique()\n",
    "\n",
    "explode= (0,0.05,0.05,0.1)\n",
    "\n",
    "plt.pie(size, labels=label,explode=explode,\n",
    "        autopct=\"%1.1f%%\", shadow=True, startangle=140)\n",
    "\n",
    "plt.title(\"Percentage of Deaths for Age Groups impacted by COVID in California\")"
   ]
  },
  {
   "cell_type": "code",
   "execution_count": 16,
   "metadata": {},
   "outputs": [
    {
     "data": {
      "image/png": "[encoded data removed]",
      "text/plain": [
       "<Figure size 432x288 with 1 Axes>"
      ]
     },
     "metadata": {
      "needs_background": "light"
     },
     "output_type": "display_data"
    }
   ],
   "source": [
    "ages = Cali_Age_df[\"Age Groups\"]\n",
    "Death_Toll = Cali_Age_df[\"Deaths\"]\n",
    "plt.title(\"Number of Deaths per Age Groups\")\n",
    "plt.ylabel(\"Number of Deaths\")\n",
    "plt.xlabel(\"Age Groups\")\n",
    "width = 0.5 \n",
    "plt.xticks(rotation=90)\n",
    "plt.bar(ages , Death_Toll, width)\n",
    "plt.tick_params(axis=\"x\", which=\"major\", labelsize=12)\n",
    "plt.show()"
   ]
  },
  {
   "cell_type": "code",
   "execution_count": null,
   "metadata": {},
   "outputs": [],
   "source": []
  },
  {
   "cell_type": "code",
   "execution_count": null,
   "metadata": {},
   "outputs": [],
   "source": []
  },
  {
   "cell_type": "code",
   "execution_count": null,
   "metadata": {},
   "outputs": [],
   "source": []
  }
 ],
 "metadata": {
  "kernelspec": {
   "display_name": "Python 3",
   "language": "python",
   "name": "python3"
  },
  "language_info": {
   "codemirror_mode": {
    "name": "ipython",
    "version": 3
   },
   "file_extension": ".py",
   "mimetype": "text/x-python",
   "name": "python",
   "nbconvert_exporter": "python",
   "pygments_lexer": "ipython3",
   "version": "3.8.5"
  }
 },
 "nbformat": 4,
 "nbformat_minor": 4
}
